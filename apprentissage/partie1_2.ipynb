{
 "cells": [
  {
   "cell_type": "code",
   "execution_count": null,
   "id": "9238235e",
   "metadata": {},
   "outputs": [],
   "source": [
    "import pandas as pd\n",
    "\n",
    "pd.set_option('display.max_columns', None)  # Show all columns\n",
    "pd.set_option('future.no_silent_downcasting', True)\n",
    "nosPokemons = pd.read_csv(\"data/pokedex.csv\")\n",
    "\n",
    "#Affichage des colonnes du Dataframe\n",
    "print(nosPokemons.columns.values)"
   ]
  },
  {
   "cell_type": "code",
   "execution_count": null,
   "id": "78f7511d",
   "metadata": {},
   "outputs": [],
   "source": [
    "print(nosPokemons.head(10))"
   ]
  },
  {
   "cell_type": "code",
   "execution_count": null,
   "id": "ced756fc",
   "metadata": {},
   "outputs": [],
   "source": [
    "# remplacement de VRAI FAUX par 1 0\n",
    "nosPokemonsClean = nosPokemons\n",
    "nosPokemonsClean[\"LEGENDAIRE\"] = nosPokemonsClean[\"LEGENDAIRE\"].replace(\"VRAI\", 1)\n",
    "nosPokemonsClean[\"LEGENDAIRE\"] = nosPokemonsClean[\"LEGENDAIRE\"].replace(\"FAUX\", 0)\n",
    "nosPokemonsClean[\"LEGENDAIRE\"] = nosPokemonsClean[\"LEGENDAIRE\"].astype(int)\n",
    "print(nosPokemonsClean.head())"
   ]
  },
  {
   "cell_type": "code",
   "execution_count": null,
   "id": "8cf3b77d",
   "metadata": {},
   "outputs": [],
   "source": [
    "#Comptage du nombre d'observations et de features\n",
    "print(nosPokemonsClean.shape)"
   ]
  },
  {
   "cell_type": "code",
   "execution_count": null,
   "id": "e31c6f8b",
   "metadata": {},
   "outputs": [],
   "source": [
    "#Informations sur notre jeu de données\n",
    "print(nosPokemonsClean.info())"
   ]
  },
  {
   "cell_type": "code",
   "execution_count": null,
   "id": "d1cdbb67",
   "metadata": {},
   "outputs": [],
   "source": [
    "print(nosPokemonsClean[nosPokemonsClean['NOM'].isnull()])\n",
    "print(nosPokemonsClean['NOM'][61])\n",
    "print(nosPokemonsClean['NOM'][63])\n",
    "nosPokemonsClean['NOM'][62] = \"Colossinge\""
   ]
  },
  {
   "cell_type": "code",
   "execution_count": null,
   "id": "21540c87",
   "metadata": {},
   "outputs": [],
   "source": [
    "print(nosPokemonsClean['NOM'][62])"
   ]
  }
 ],
 "metadata": {
  "kernelspec": {
   "display_name": "Python 3",
   "language": "python",
   "name": "python3"
  },
  "language_info": {
   "codemirror_mode": {
    "name": "ipython",
    "version": 3
   },
   "file_extension": ".py",
   "mimetype": "text/x-python",
   "name": "python",
   "nbconvert_exporter": "python",
   "pygments_lexer": "ipython3",
   "version": "3.12.11"
  }
 },
 "nbformat": 4,
 "nbformat_minor": 5
}
